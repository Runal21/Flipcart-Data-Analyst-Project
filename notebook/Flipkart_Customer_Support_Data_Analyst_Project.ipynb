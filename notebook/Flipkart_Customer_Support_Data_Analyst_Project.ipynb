{
  "nbformat": 4,
  "nbformat_minor": 0,
  "metadata": {
    "colab": {
      "private_outputs": true,
      "provenance": []
    },
    "kernelspec": {
      "name": "python3",
      "display_name": "Python 3"
    },
    "language_info": {
      "name": "python"
    }
  },
  "cells": [
    {
      "cell_type": "markdown",
      "source": [
        "# **Flipcart Data Analyst Project**\n"
      ],
      "metadata": {
        "id": "vncDsAP0Gaoa"
      }
    },
    {
      "cell_type": "markdown",
      "source": [
        "##### **Project Type**    - EDA\n",
        "##### **Contribution**    - Individual"
      ],
      "metadata": {
        "id": "beRrZCGUAJYm"
      }
    },
    {
      "cell_type": "markdown",
      "source": [
        "# **Project Summary -**"
      ],
      "metadata": {
        "id": "FJNUwmbgGyua"
      }
    },
    {
      "cell_type": "markdown",
      "source": [
        "**Flipkart Project Summary**\n",
        "\n",
        "**Introduction**\n",
        "\n",
        "Flipkart is one of India's leading e-commerce platforms, offering a wide range of products across multiple categories, including electronics, fashion, home essentials, and groceries. This project explores various aspects of Flipkart's business operations, customer support, and market performance to understand its growth trajectory, challenges, and opportunities.\n",
        "\n",
        "**Objective**\n",
        "\n",
        "The primary objective of this project is to analyze Flipkart’s business model, customer satisfaction levels, competitive positioning, and key success factors. Additionally, it seeks to identify potential areas for improvement in customer service and logistics, ensuring enhanced user experiences.\n",
        "\n",
        "**Data Analysis Approach**\n",
        "\n",
        "The project relies on multiple data sources, including customer reviews, support interactions, product listings, and sales figures. By leveraging this dataset, we can gain insights into:\n",
        "- Customer complaints and resolution efficiency.\n",
        "- Product performance based on reviews and ratings.\n",
        "- Flipkart’s competitive strategy in India’s dynamic e-commerce market.\n",
        "\n",
        "**Key Findings**\n",
        "1. **Customer Satisfaction Trends**  \n",
        "   The analysis of customer interactions highlights common concerns such as delayed deliveries, product quality issues, and refund-related complaints. Understanding these trends helps in improving Flipkart's customer service operations.\n",
        "   \n",
        "2. **Product Performance Insights**  \n",
        "   By examining ratings and reviews, we can determine which categories perform well and which require improvements. Electronics and fashion segments often receive mixed feedback, emphasizing the need for better quality control and product descriptions.\n",
        "\n",
        "3. **Competitive Positioning**  \n",
        "   Flipkart’s competitive edge lies in its strong logistics network, deep discounts, and strategic partnerships with brands. However, it faces stiff competition from Amazon India and emerging platforms like JioMart.\n",
        "\n",
        "4. **Market Strategies & Consumer Behavior**  \n",
        "   Analyzing Flipkart's promotional strategies, including festival sales and discount campaigns, reveals a surge in consumer activity during major shopping events such as Big Billion Days. Price sensitivity and brand trust are key determinants of customer purchase decisions.\n",
        "\n",
        "**Challenges Identified**\n",
        "\n",
        "- **Customer Service Bottlenecks**: Many users report issues related to delayed responses from support teams, indicating a need for better automation and quicker resolution mechanisms.\n",
        "- **Product Authenticity & Quality Control**: Ensuring the authenticity of third-party sellers and maintaining quality standards is crucial to retain customer trust.\n",
        "- **Logistics & Delivery Delays**: Certain regions experience frequent delays due to supply chain inefficiencies, suggesting an opportunity for optimization.\n",
        "\n",
        "**Recommendations**\n",
        "\n",
        "1. **AI-Driven Customer Support**  \n",
        "   Implementing AI-powered chatbots and automated complaint resolution systems can enhance customer service efficiency.\n",
        "   \n",
        "2. **Strengthening Seller Verification**  \n",
        "   Introducing stricter seller guidelines and quality checks can reduce counterfeit and low-quality product listings.\n",
        "\n",
        "3. **Optimized Logistics Management**  \n",
        "   Investing in predictive analytics for demand forecasting and regional warehouses can help minimize delivery delays.\n",
        "\n",
        "4. **Enhancing Customer Loyalty Programs**  \n",
        "   Expanding Flipkart Plus and offering personalized discounts based on shopping behavior can boost customer retention.\n",
        "\n",
        "**Conclusion**\n",
        "\n",
        "The project provides a comprehensive analysis of Flipkart’s operations, customer sentiment, and market positioning. By addressing key challenges in customer service, logistics, and product quality, Flipkart can strengthen its leadership in India’s e-commerce landscape. The insights derived from this study can be instrumental in shaping future strategies for sustainable growth and enhanced customer satisfaction."
      ],
      "metadata": {
        "id": "F6v_1wHtG2nS"
      }
    },
    {
      "cell_type": "markdown",
      "source": [
        "# **GitHub Link -**"
      ],
      "metadata": {
        "id": "w6K7xa23Elo4"
      }
    },
    {
      "cell_type": "markdown",
      "source": [
        "https://github.com/Runal21/Flipkart-Customer-Support-Data-Analyst-Project"
      ],
      "metadata": {
        "id": "h1o69JH3Eqqn"
      }
    },
    {
      "cell_type": "markdown",
      "source": [
        "# **Problem Statement**\n"
      ],
      "metadata": {
        "id": "yQaldy8SH6Dl"
      }
    },
    {
      "cell_type": "markdown",
      "source": [
        "**This project aims to analyze Flipkart’s customer service operations, product performance, and logistics efficiency while identifying areas for improvement. By leveraging data insights, the study seeks to propose actionable solutions that enhance customer satisfaction, streamline operations, and strengthen Flipkart’s competitive positioning in the Indian e-commerce landscape.**"
      ],
      "metadata": {
        "id": "DpeJGUA3kjGy"
      }
    },
    {
      "cell_type": "markdown",
      "source": [
        "#### **Define Your Business Objective?**"
      ],
      "metadata": {
        "id": "PH-0ReGfmX4f"
      }
    },
    {
      "cell_type": "markdown",
      "source": [
        "**Business Objective**  \n",
        "\n",
        "The primary business objective of this project is to enhance **Flipkart’s operational efficiency, customer satisfaction, and market competitiveness** by addressing key challenges in customer service, product quality, logistics, and consumer retention.  \n",
        "\n",
        "**Specific Goals:**  \n",
        "\n",
        "1. **Improve Customer Support Efficiency**  \n",
        "   - Reduce response time and enhance the effectiveness of complaint resolution.  \n",
        "   - Implement AI-driven support systems for faster query handling.\n",
        "\n",
        "2. **Ensure Product Quality & Authenticity**  \n",
        "   - Strengthen seller verification and quality control measures.\n",
        "   - Minimize counterfeit and low-quality product listings.\n",
        "\n",
        "3. **Optimize Logistics & Delivery Systems**\n",
        "   - Improve supply chain management to minimize delivery delays.\n",
        "   - Use predictive analytics for better inventory and demand forecasting.\n",
        "\n",
        "4. **Strengthen Market Position & Customer Retention**\n",
        "   - Enhance loyalty programs such as Flipkart Plus to increase customer engagement.\n",
        "   - Develop personalized marketing strategies to cater to different customer segments."
      ],
      "metadata": {
        "id": "PhDvGCAqmjP1"
      }
    },
    {
      "cell_type": "markdown",
      "source": [
        "# **General Guidelines** : -  "
      ],
      "metadata": {
        "id": "mDgbUHAGgjLW"
      }
    },
    {
      "cell_type": "markdown",
      "source": [
        "1.   Well-structured, formatted, and commented code is required.\n",
        "2.   Exception Handling, Production Grade Code & Deployment Ready Code will be a plus. Those students will be awarded some additional credits.\n",
        "     \n",
        "     The additional credits will have advantages over other students during Star Student selection.\n",
        "       \n",
        "             [ Note: - Deployment Ready Code is defined as, the whole .ipynb notebook should be executable in one go\n",
        "                       without a single error logged. ]\n",
        "\n",
        "3.   Each and every logic should have proper comments.\n",
        "4. You may add as many number of charts you want. Make Sure for each and every chart the following format should be answered.\n",
        "        \n",
        "\n",
        "```\n",
        "# Chart visualization code\n",
        "```\n",
        "            \n",
        "\n",
        "*   Why did you pick the specific chart?\n",
        "*   What is/are the insight(s) found from the chart?\n",
        "* Will the gained insights help creating a positive business impact?\n",
        "Are there any insights that lead to negative growth? Justify with specific reason.\n",
        "\n",
        "5. You have to create at least 20 logical & meaningful charts having important insights.\n",
        "\n",
        "\n",
        "[ Hints : - Do the Vizualization in  a structured way while following \"UBM\" Rule.\n",
        "\n",
        "U - Univariate Analysis,\n",
        "\n",
        "B - Bivariate Analysis (Numerical - Categorical, Numerical - Numerical, Categorical - Categorical)\n",
        "\n",
        "M - Multivariate Analysis\n",
        " ]\n",
        "\n",
        "\n",
        "\n"
      ],
      "metadata": {
        "id": "ZrxVaUj-hHfC"
      }
    },
    {
      "cell_type": "markdown",
      "source": [
        "# ***Let's Begin !***"
      ],
      "metadata": {
        "id": "O_i_v8NEhb9l"
      }
    },
    {
      "cell_type": "markdown",
      "source": [
        "## ***1. Know Your Data***"
      ],
      "metadata": {
        "id": "HhfV-JJviCcP"
      }
    },
    {
      "cell_type": "markdown",
      "source": [
        "### Import Libraries"
      ],
      "metadata": {
        "id": "Y3lxredqlCYt"
      }
    },
    {
      "cell_type": "code",
      "source": [
        "# Import Libraries\n",
        "\n",
        "import pandas as pd  # For data manipulation\n",
        "import numpy as np  # For numerical operations\n",
        "import matplotlib.pyplot as plt  # For data visualization\n",
        "import seaborn as sns  # For advanced visualizations"
      ],
      "metadata": {
        "id": "M8Vqi-pPk-HR"
      },
      "execution_count": null,
      "outputs": []
    },
    {
      "cell_type": "markdown",
      "source": [
        "### Dataset Loading"
      ],
      "metadata": {
        "id": "3RnN4peoiCZX"
      }
    },
    {
      "cell_type": "code",
      "source": [
        "# Load the dataset\n",
        "file_path = \"Customer_support_data.csv\"\n",
        "df = pd.read_csv(file_path)\n",
        "\n",
        "# Display success message\n",
        "print(\"Dataset loaded successfully!\")\n"
      ],
      "metadata": {
        "id": "4CkvbW_SlZ_R"
      },
      "execution_count": null,
      "outputs": []
    },
    {
      "cell_type": "markdown",
      "source": [
        "### Dataset First View"
      ],
      "metadata": {
        "id": "x71ZqKXriCWQ"
      }
    },
    {
      "cell_type": "code",
      "source": [
        "# Dataset First Look\n",
        "\n",
        "# Display the first 5 rows\n",
        "df.head()"
      ],
      "metadata": {
        "id": "LWNFOSvLl09H"
      },
      "execution_count": null,
      "outputs": []
    },
    {
      "cell_type": "markdown",
      "source": [
        "### Dataset Rows & Columns count"
      ],
      "metadata": {
        "id": "7hBIi_osiCS2"
      }
    },
    {
      "cell_type": "code",
      "source": [
        "# Dataset Rows & Columns count\n",
        "\n",
        "# Get the number of rows and columns\n",
        "rows, cols = df.shape\n",
        "\n",
        "print(f\"The dataset contains {rows} rows and {cols} columns.\")"
      ],
      "metadata": {
        "id": "Kllu7SJgmLij"
      },
      "execution_count": null,
      "outputs": []
    },
    {
      "cell_type": "markdown",
      "source": [
        "### Dataset Information"
      ],
      "metadata": {
        "id": "JlHwYmJAmNHm"
      }
    },
    {
      "cell_type": "code",
      "source": [
        "# Dataset Information\n",
        "\n",
        "dataset_info = df.info()\n",
        "\n",
        "dataset_info"
      ],
      "metadata": {
        "id": "e9hRXRi6meOf"
      },
      "execution_count": null,
      "outputs": []
    },
    {
      "cell_type": "markdown",
      "source": [
        "#### Duplicate Values"
      ],
      "metadata": {
        "id": "35m5QtbWiB9F"
      }
    },
    {
      "cell_type": "code",
      "source": [
        "# Checking for Duplicate Values\n",
        "duplicate_count = df.duplicated().sum()\n",
        "\n",
        "duplicate_count"
      ],
      "metadata": {
        "id": "1sLdpKYkmox0"
      },
      "execution_count": null,
      "outputs": []
    },
    {
      "cell_type": "markdown",
      "source": [
        "#### Missing Values/Null Values"
      ],
      "metadata": {
        "id": "PoPl-ycgm1ru"
      }
    },
    {
      "cell_type": "code",
      "source": [
        "# Missing Values/Null Values Count\n",
        "\n",
        "# Checking for Missing Values\n",
        "missing_values = df.isnull().sum()\n",
        "\n",
        "missing_values"
      ],
      "metadata": {
        "id": "GgHWkxvamxVg"
      },
      "execution_count": null,
      "outputs": []
    },
    {
      "cell_type": "code",
      "source": [
        "# Visualizing Missing Values\n",
        "plt.figure(figsize=(10, 5))\n",
        "sns.heatmap(df.isnull(), cbar=False, cmap='viridis')\n",
        "plt.title(\"Missing Values Heatmap\")\n",
        "plt.show()\n"
      ],
      "metadata": {
        "id": "3q5wnI3om9sJ"
      },
      "execution_count": null,
      "outputs": []
    },
    {
      "cell_type": "markdown",
      "source": [
        "### What did you know about your dataset?"
      ],
      "metadata": {
        "id": "H0kj-8xxnORC"
      }
    },
    {
      "cell_type": "markdown",
      "source": [
        "1. **Missing Data Problem:**\n",
        "   - Columns like `connected_handling_time`, `Item_price`, and `Customer_City` have **high missing rates**, which could impact the analysis.\n",
        "   - `Order_id` and `order_date_time` have missing values, suggesting incomplete transaction data.\n",
        "\n",
        "2. **No Duplicate Data:**\n",
        "   - No duplicates, so data integrity is intact.\n",
        "\n",
        "3. **Categorical Data is Well-Populated:**\n",
        "   - Key columns such as `category`, `Agent_name`, and `Supervisor` contain **complete data**, useful for analysis."
      ],
      "metadata": {
        "id": "gfoNAAC-nUe_"
      }
    },
    {
      "cell_type": "markdown",
      "source": [
        "## ***2. Understanding Your Variables***"
      ],
      "metadata": {
        "id": "nA9Y7ga8ng1Z"
      }
    },
    {
      "cell_type": "code",
      "source": [
        "# Dataset Columns\n",
        "\n",
        "dataset_columns = df.columns.tolist()\n",
        "dataset_columns"
      ],
      "metadata": {
        "id": "j7xfkqrt5Ag5"
      },
      "execution_count": null,
      "outputs": []
    },
    {
      "cell_type": "code",
      "source": [
        "# Dataset Description (Summary Statistics)\n",
        "dataset_description = df.describe(include=\"all\")\n",
        "dataset_description\n"
      ],
      "metadata": {
        "id": "DnOaZdaE5Q5t"
      },
      "execution_count": null,
      "outputs": []
    },
    {
      "cell_type": "markdown",
      "source": [
        "### Variables Description"
      ],
      "metadata": {
        "id": "PBTbrJXOngz2"
      }
    },
    {
      "cell_type": "markdown",
      "source": [
        "**Understanding Dataset Variables**  \n",
        "\n",
        "**Dataset Columns**\n",
        "\n",
        "The dataset consists of **20 columns**:\n",
        "- **Identifiers:** `Unique id`, `Order_id`\n",
        "- **Customer Service Data:** `channel_name`, `category`, `Sub-category`, `Customer Remarks`\n",
        "- **Order & Issue Details:** `order_date_time`, `Issue_reported at`, `issue_responded`\n",
        "- **Survey & Feedback Data:** `Survey_response_Date`, `CSAT Score`\n",
        "- **Customer & Product Data:** `Customer_City`, `Product_category`, `Item_price`\n",
        "- **Agent Performance Data:** `connected_handling_time`, `Agent_name`, `Supervisor`, `Manager`, `Tenure Bucket`, `Agent Shift`\n",
        "\n",
        "**Dataset Description (Statistical Summary)**\n",
        "\n",
        "- **Categorical Columns:**  \n",
        "  - `channel_name` has 3 unique values (e.g., Inbound, Outcall, etc.).  \n",
        "  - `category` has 12 unique values (e.g., Returns, Order Related, etc.).  \n",
        "  - `Product_category` has 9 unique product types (e.g., Electronics, Fashion).  \n",
        "\n",
        "- **Numerical Columns:**  \n",
        "\n",
        "  - **`Item_price`** ranges from **₹0 to ₹1,64,999**, with an average of **₹5,660**.  \n",
        "  - **`connected_handling_time`** varies between **0 to 1,986 seconds**, with an average of **462 seconds**.  \n",
        "  - **`CSAT Score`** (Customer Satisfaction Score) has an average of **4.24** (out of 5).\n",
        "\n",
        "**Unique Values for Each Variable**\n",
        "\n",
        "- **Most Unique Column:** `Unique id` (85,907 unique values).  \n",
        "- **Few Unique Categories:**\n",
        "  - `channel_name` (3 values: Inbound, Outcall, etc.).\n",
        "  - `Agent Shift` (5 values: Morning, Evening, etc.).\n",
        "  - `Tenure Bucket` (5 values: 0-30, 31-60, etc.)."
      ],
      "metadata": {
        "id": "aJV4KIxSnxay"
      }
    },
    {
      "cell_type": "markdown",
      "source": [
        "### Check Unique Values for each variable."
      ],
      "metadata": {
        "id": "u3PMJOP6ngxN"
      }
    },
    {
      "cell_type": "code",
      "source": [
        "# Check Unique Values for each variable\n",
        "unique_values = {col: df[col].nunique() for col in df.columns}\n",
        "unique_values"
      ],
      "metadata": {
        "id": "zms12Yq5n-jE"
      },
      "execution_count": null,
      "outputs": []
    },
    {
      "cell_type": "markdown",
      "source": [
        "## 3. ***Data Wrangling***"
      ],
      "metadata": {
        "id": "dauF4eBmngu3"
      }
    },
    {
      "cell_type": "markdown",
      "source": [
        "### Data Wrangling Code"
      ],
      "metadata": {
        "id": "bKJF3rekwFvQ"
      }
    },
    {
      "cell_type": "code",
      "source": [
        "# Handling Missing Values\n",
        "\n",
        "# Drop columns with excessive missing values (above 80% missing)\n",
        "df_cleaned = df.drop(columns=[\"connected_handling_time\", \"order_date_time\", \"Customer_City\", \"Product_category\"])\n",
        "\n",
        "# Fill missing values in \"Customer Remarks\" with \"No Remarks\"\n",
        "df_cleaned[\"Customer Remarks\"].fillna(\"No Remarks\", inplace=True)\n",
        "\n",
        "# Fill missing \"Item_price\" with median value\n",
        "df_cleaned[\"Item_price\"].fillna(df_cleaned[\"Item_price\"].median(), inplace=True)\n",
        "\n",
        "# Drop rows where \"Order_id\" is missing\n",
        "df_cleaned.dropna(subset=[\"Order_id\"], inplace=True)\n",
        "\n",
        "# Step 2: Convert Data Types\n",
        "\n",
        "# Convert issue reported & responded times to datetime format\n",
        "df_cleaned[\"Issue_reported at\"] = pd.to_datetime(df_cleaned[\"Issue_reported at\"], errors='coerce', dayfirst=True)\n",
        "df_cleaned[\"issue_responded\"] = pd.to_datetime(df_cleaned[\"issue_responded\"], errors='coerce', dayfirst=True)\n",
        "\n",
        "# Convert CSAT Score to categorical\n",
        "df_cleaned[\"CSAT Score\"] = df_cleaned[\"CSAT Score\"].astype(\"category\")\n",
        "\n",
        "# Step 3: Feature Engineering\n",
        "\n",
        "# Calculate response time in minutes\n",
        "df_cleaned[\"Response Time (minutes)\"] = (df_cleaned[\"issue_responded\"] - df_cleaned[\"Issue_reported at\"]).dt.total_seconds() / 60\n",
        "\n",
        "# Manually define price categories\n",
        "bins = [0, 1000, 5000, df_cleaned[\"Item_price\"].max()]\n",
        "labels = [\"Low\", \"Mid\", \"High\"]\n",
        "df_cleaned[\"Price Category\"] = pd.cut(df_cleaned[\"Item_price\"], bins=bins, labels=labels, include_lowest=True)\n",
        "\n",
        "# Display cleaned dataset information\n",
        "df_cleaned.info(), df_cleaned.head()"
      ],
      "metadata": {
        "id": "wk-9a2fpoLcV"
      },
      "execution_count": null,
      "outputs": []
    },
    {
      "cell_type": "markdown",
      "source": [
        "### What all manipulations have you done and insights you found?"
      ],
      "metadata": {
        "id": "MSa1f5Uengrz"
      }
    },
    {
      "cell_type": "markdown",
      "source": [
        "**Data Wrangling Insights**  \n",
        "\n",
        "**Changes & Insights:**\n",
        "1. **Handled Missing Values:**  \n",
        "   - Dropped high-missing columns (`connected_handling_time`, `order_date_time`, `Customer_City`, `Product_category`).  \n",
        "   - Replaced NaN in `Customer Remarks` with **\"No Remarks\"**.  \n",
        "   - Imputed missing `Item_price` with **median value**.  \n",
        "   - Dropped rows where `Order_id` was missing (as it is critical).  \n",
        "\n",
        "2. **Converted Data Types:**  \n",
        "   - Converted `Issue_reported at` & `issue_responded` to **datetime format**.  \n",
        "   - Changed `CSAT Score` to **categorical**.  \n",
        "\n",
        "3. **Feature Engineering:**  \n",
        "   - Created **`Response Time (minutes)`** = Time difference between issue report & resolution.  \n",
        "   - Created **`Price Category`** (Low: ₹0-1000, Mid: ₹1001-5000, High: ₹5000+)."
      ],
      "metadata": {
        "id": "LbyXE7I1olp8"
      }
    },
    {
      "cell_type": "markdown",
      "source": [
        "## ***4. Data Vizualization, Storytelling & Experimenting with charts : Understand the relationships between variables***"
      ],
      "metadata": {
        "id": "GF8Ens_Soomf"
      }
    },
    {
      "cell_type": "markdown",
      "source": [
        "#### Chart - 1"
      ],
      "metadata": {
        "id": "0wOQAZs5pc--"
      }
    },
    {
      "cell_type": "code",
      "source": [
        "# Chart - 1: Distribution of Customer Issues by Category\n",
        "\n",
        "plt.figure(figsize=(12, 6))\n",
        "sns.countplot(data=df_cleaned, x=\"category\", order=df_cleaned[\"category\"].value_counts().index, palette=\"viridis\")\n",
        "plt.xticks(rotation=45, ha='right')\n",
        "plt.title(\"Distribution of Customer Issues by Category\")\n",
        "plt.xlabel(\"Issue Category\")\n",
        "plt.ylabel(\"Number of Issues\")\n",
        "plt.show()\n"
      ],
      "metadata": {
        "id": "7v_ESjsspbW7"
      },
      "execution_count": null,
      "outputs": []
    },
    {
      "cell_type": "markdown",
      "source": [
        "##### 1. Why did you pick the specific chart?"
      ],
      "metadata": {
        "id": "K5QZ13OEpz2H"
      }
    },
    {
      "cell_type": "markdown",
      "source": [
        "\n",
        "  - It helps identify the **most common** customer issues, allowing Flipkart to focus on resolving the highest-impact complaints."
      ],
      "metadata": {
        "id": "XESiWehPqBRc"
      }
    },
    {
      "cell_type": "markdown",
      "source": [
        "##### 2. What is/are the insight(s) found from the chart?"
      ],
      "metadata": {
        "id": "lQ7QKXXCp7Bj"
      }
    },
    {
      "cell_type": "markdown",
      "source": [
        "\n",
        "- **Returns & Order Related Issues** are the most frequently reported complaints.  \n",
        "- **Product Queries** also form a significant chunk, indicating customers often need more information before purchasing."
      ],
      "metadata": {
        "id": "C_j1G7yiqdRP"
      }
    },
    {
      "cell_type": "markdown",
      "source": [
        "##### 3. Will the gained insights help creating a positive business impact?\n",
        "Are there any insights that lead to negative growth? Justify with specific reason."
      ],
      "metadata": {
        "id": "448CDAPjqfQr"
      }
    },
    {
      "cell_type": "markdown",
      "source": [
        "**Positive business impact**\n",
        "- Flipkart should focus on **streamlining returns & order processes** to **reduce complaints**.\n",
        "- Improving **order tracking, refund speed, and customer education** can lead to fewer complaints and better CSAT scores.\n",
        "\n",
        "**Negative Impact Insight:**\n",
        "- If **returns remain high**, it could indicate **product quality issues or misleading descriptions**, hurting brand trust."
      ],
      "metadata": {
        "id": "3cspy4FjqxJW"
      }
    },
    {
      "cell_type": "markdown",
      "source": [
        "#### Chart - 2"
      ],
      "metadata": {
        "id": "KSlN3yHqYklG"
      }
    },
    {
      "cell_type": "code",
      "source": [
        "# Chart - 2: Sub-category Breakdown of Issues\n",
        "\n",
        "# Count occurrences of each sub-category\n",
        "sub_category_counts = df_cleaned[\"Sub-category\"].value_counts()\n",
        "\n",
        "plt.figure(figsize=(20, 12))  # figure size for better readability\n",
        "\n",
        "# barplot with correct values\n",
        "sns.barplot(y=sub_category_counts.index, x=sub_category_counts.values, palette=\"viridis\")\n",
        "\n",
        "plt.title(\"Sub-category Breakdown of Issues\", fontsize=20, fontweight=\"bold\")\n",
        "plt.xlabel(\"Number of Issues\", fontsize=16)\n",
        "plt.ylabel(\"Sub-category\", fontsize=16)\n",
        "plt.xticks(fontsize=14)\n",
        "plt.yticks(fontsize=14)\n",
        "\n",
        "# Adding grid\n",
        "plt.grid(axis=\"x\", linestyle=\"--\", alpha=0.7)\n",
        "\n",
        "plt.show()\n"
      ],
      "metadata": {
        "id": "R4YgtaqtYklH"
      },
      "execution_count": null,
      "outputs": []
    },
    {
      "cell_type": "markdown",
      "source": [
        "##### 1. Why did you pick the specific chart?"
      ],
      "metadata": {
        "id": "t6dVpIINYklI"
      }
    },
    {
      "cell_type": "markdown",
      "source": [
        " ** Why did you pick this specific chart?**  \n",
        "- A **horizontal bar chart** is best for showing detailed sub-category breakdowns while keeping labels readable.  \n",
        "- This helps identify **specific pain points** within broader issue categories."
      ],
      "metadata": {
        "id": "5aaW0BYyYklI"
      }
    },
    {
      "cell_type": "markdown",
      "source": [
        "##### 2. What is/are the insight(s) found from the chart?"
      ],
      "metadata": {
        "id": "ijmpgYnKYklI"
      }
    },
    {
      "cell_type": "markdown",
      "source": [
        "**What insights did we find from the chart?**  \n",
        "- **Reverse Pickup Enquiry** (returns-related) is the most reported issue.  \n",
        "- **Installation/demo issues** and **cancellation-related queries** are also frequent."
      ],
      "metadata": {
        "id": "PSx9atu2YklI"
      }
    },
    {
      "cell_type": "markdown",
      "source": [
        "##### 3. Will the gained insights help creating a positive business impact?\n",
        "Are there any insights that lead to negative growth? Justify with specific reason."
      ],
      "metadata": {
        "id": "-JiQyfWJYklI"
      }
    },
    {
      "cell_type": "markdown",
      "source": [
        "**Positive business impact**\n",
        "- Flipkart can **optimize the return pickup process** by improving logistics coordination.  \n",
        "- Providing **better installation guides or proactive customer support** could reduce installation/demo complaints.  \n",
        "\n",
        "**Negative Growth Risk:**  \n",
        "- **Frequent return pickups** may signal **product dissatisfaction** or incorrect product descriptions, leading to **higher operational costs**."
      ],
      "metadata": {
        "id": "BcBbebzrYklV"
      }
    },
    {
      "cell_type": "markdown",
      "source": [
        "#### Chart - 3"
      ],
      "metadata": {
        "id": "EM7whBJCYoAo"
      }
    },
    {
      "cell_type": "code",
      "source": [
        "# Chart - 3: Channel-wise Distribution of Customer Issues\n",
        "# Count occurrences of each support channel\n",
        "channel_counts = df_cleaned[\"channel_name\"].value_counts()\n",
        "\n",
        "# Plot pie chart with percentages\n",
        "plt.figure(figsize=(12, 8))\n",
        "plt.pie(channel_counts, labels=channel_counts.index, autopct=\"%1.1f%%\",\n",
        "        colors=sns.color_palette(\"Set2\"), startangle=140, wedgeprops={'edgecolor': 'black'})\n",
        "\n",
        "plt.title(\"Channel-wise Distribution of Customer Issues\", fontsize=16, fontweight=\"bold\")\n",
        "plt.show()\n"
      ],
      "metadata": {
        "id": "t6GMdE67YoAp"
      },
      "execution_count": null,
      "outputs": []
    },
    {
      "cell_type": "markdown",
      "source": [
        "##### 1. Why did you pick the specific chart?"
      ],
      "metadata": {
        "id": "fge-S5ZAYoAp"
      }
    },
    {
      "cell_type": "markdown",
      "source": [
        "\n",
        "A **pie chart** effectively represents the proportion of customer complaints received through different channels (Inbound, Outcall, Email). This makes it easier to understand which channel handles the most issues."
      ],
      "metadata": {
        "id": "5dBItgRVYoAp"
      }
    },
    {
      "cell_type": "markdown",
      "source": [
        "##### 2. What is/are the insight(s) found from the chart?"
      ],
      "metadata": {
        "id": "85gYPyotYoAp"
      }
    },
    {
      "cell_type": "markdown",
      "source": [
        "**Insights from the chart:**\n",
        "\n",
        "- **Inbound** support receives **78.7%** of complaints, making it the most used channel.  \n",
        "- **Outcall** accounts for **17.4%**, meaning the company actively reaches out to resolve issues.  \n",
        "- **Email** has the **least share (3.8%)**, suggesting it is not a preferred method."
      ],
      "metadata": {
        "id": "4jstXR6OYoAp"
      }
    },
    {
      "cell_type": "markdown",
      "source": [
        "##### 3. Will the gained insights help creating a positive business impact?\n",
        "Are there any insights that lead to negative growth? Justify with specific reason."
      ],
      "metadata": {
        "id": "RoGjAbkUYoAp"
      }
    },
    {
      "cell_type": "markdown",
      "source": [
        "**Positive Impact:**\n",
        "\n",
        "**High Inbound Support = Strong Customer Interaction**  \n",
        "   - Since **78.7% of issues** come from inbound calls, Flipkart has a **strong direct engagement** with its customers.  \n",
        "   - This helps in **personalized issue resolution** and builds **customer trust**.  \n",
        "\n",
        "**Outcall Support (17.4%) Helps in Follow-ups**  \n",
        "   - Some issues require **proactive follow-ups**, and this category indicates Flipkart is making an effort to reach out to customers.  \n",
        "   - This can **increase customer satisfaction** when done effectively.  \n",
        "\n",
        "**Low Email Support (3.8%) = Faster Resolutions?**  \n",
        "   - Email support is generally **slower**, so a lower percentage might mean that Flipkart **prioritizes real-time resolutions** over email.  \n",
        "   - This could lead to **faster problem-solving**, enhancing user experience.\n",
        "\n",
        "**Negative Impact:**  \n",
        "\n",
        "**Inbound Support Overload → Long Wait Times & Frustration**  \n",
        "   - **Too many inbound calls** mean high pressure on support agents, which can cause **delays, burnout, and poor service quality**.  \n",
        "   - If wait times are high, customers might **leave negative reviews** or **switch to competitors**.  \n",
        "\n",
        "**Outcall Support is Not Sufficiently Proactive**  \n",
        "   - **Only 17.4% of support interactions** are outbound, meaning Flipkart is **reactive rather than proactive**.  \n",
        "   - More **proactive outreach** (e.g., status updates, automatic follow-ups) can **prevent customer frustration**.  \n",
        "\n",
        "**Email Support is Underutilized (Missed Opportunity)**  \n",
        "   - Many customers **prefer email** for detailed, non-urgent issues, but Flipkart **isn’t leveraging this well**.  \n",
        "   - This may **increase inbound call traffic**, which is **costlier to manage**."
      ],
      "metadata": {
        "id": "zfJ8IqMcYoAp"
      }
    },
    {
      "cell_type": "markdown",
      "source": [
        "#### Chart - 4"
      ],
      "metadata": {
        "id": "4Of9eVA-YrdM"
      }
    },
    {
      "cell_type": "code",
      "source": [
        "# Chart - 4: Customer Satisfaction Score (CSAT) Distribution\n",
        "\n",
        "# Set figure size\n",
        "plt.figure(figsize=(12, 6))\n",
        "\n",
        "# Plot histogram\n",
        "sns.histplot(df_cleaned[\"CSAT Score\"], bins=5, kde=True, color=\"purple\")\n",
        "\n",
        "# Titles and labels\n",
        "plt.title(\"Customer Satisfaction Score (CSAT) Distribution\", fontsize=16, fontweight=\"bold\")\n",
        "plt.xlabel(\"CSAT Score (1 to 5)\", fontsize=14)\n",
        "plt.ylabel(\"Number of Customers\", fontsize=14)\n",
        "\n",
        "# Show plot\n",
        "plt.show()\n"
      ],
      "metadata": {
        "id": "irlUoxc8YrdO"
      },
      "execution_count": null,
      "outputs": []
    },
    {
      "cell_type": "markdown",
      "source": [
        "##### 1. Why did you pick the specific chart?"
      ],
      "metadata": {
        "id": "iky9q4vBYrdO"
      }
    },
    {
      "cell_type": "markdown",
      "source": [
        "\n",
        "A **Histogram** is used because it effectively shows the distribution of **CSAT Scores** (ranging from 1 to 5). This helps us understand the frequency of each rating and whether customers are generally satisfied or dissatisfied. The **KDE (Kernel Density Estimation)** line also helps visualize the overall trend smoothly."
      ],
      "metadata": {
        "id": "aJRCwT6DYrdO"
      }
    },
    {
      "cell_type": "markdown",
      "source": [
        "##### 2. What is/are the insight(s) found from the chart?"
      ],
      "metadata": {
        "id": "F6T5p64dYrdO"
      }
    },
    {
      "cell_type": "markdown",
      "source": [
        "  \n",
        "- If the histogram shows a peak around **4 or 5**, it indicates that most customers are satisfied with Flipkart’s customer service.  \n",
        "- If there is a high frequency of **1s and 2s**, it signals dissatisfaction, requiring urgent action.  \n",
        "- A **balanced distribution** suggests varying experiences, meaning improvements should focus on consistency.="
      ],
      "metadata": {
        "id": "Xx8WAJvtYrdO"
      }
    },
    {
      "cell_type": "markdown",
      "source": [
        "##### 3. Will the gained insights help creating a positive business impact?\n",
        "Are there any insights that lead to negative growth? Justify with specific reason."
      ],
      "metadata": {
        "id": "y-Ehk30pYrdP"
      }
    },
    {
      "cell_type": "markdown",
      "source": [
        "  \n",
        "**Positive Impact:**  \n",
        "- If the majority of ratings are **4 or 5**, it validates the effectiveness of customer support.  \n",
        "- If the CSAT scores improve over time, it reflects a positive trend in service quality.  \n",
        "\n",
        "**Negative Impact:**  \n",
        "- If many customers give **1 or 2 stars**, it highlights dissatisfaction.\n",
        "- A concentration of **low scores in specific time periods, agent shifts, or issue categories** indicates service weaknesses.  \n",
        "- Negative scores can lead to lower customer retention, brand reputation issues, and reduced sales."
      ],
      "metadata": {
        "id": "jLNxxz7MYrdP"
      }
    },
    {
      "cell_type": "markdown",
      "source": [
        "#### Chart - 5"
      ],
      "metadata": {
        "id": "bamQiAODYuh1"
      }
    },
    {
      "cell_type": "code",
      "source": [
        "# Chart - 5: Average Response Time by Issue Category\n",
        "\n",
        "# Convert time-related columns to datetime format\n",
        "df[\"Issue_reported at\"] = pd.to_datetime(df[\"Issue_reported at\"], errors='coerce')\n",
        "df[\"issue_responded\"] = pd.to_datetime(df[\"issue_responded\"], errors='coerce')\n",
        "\n",
        "# Calculate response time in hours\n",
        "df[\"Response_Time\"] = (df[\"issue_responded\"] - df[\"Issue_reported at\"]).dt.total_seconds() / 3600\n",
        "\n",
        "# Remove extreme outliers for better visualization\n",
        "df_filtered = df[df[\"Response_Time\"] < df[\"Response_Time\"].quantile(0.99)]\n",
        "\n",
        "# Chart - 5: Average Response Time by Issue Category\n",
        "plt.figure(figsize=(14, 7))\n",
        "sns.boxplot(x=\"Response_Time\", y=\"category\", data=df_filtered, palette=\"coolwarm\")\n",
        "\n",
        "# Titles and labels\n",
        "plt.title(\"Average Response Time by Issue Category\", fontsize=16, fontweight=\"bold\")\n",
        "plt.xlabel(\"Response Time (Hours)\", fontsize=14)\n",
        "plt.ylabel(\"Issue Category\", fontsize=14)\n",
        "\n",
        "# Show plot\n",
        "plt.show()\n"
      ],
      "metadata": {
        "id": "TIJwrbroYuh3"
      },
      "execution_count": null,
      "outputs": []
    },
    {
      "cell_type": "markdown",
      "source": [
        "##### 1. Why did you pick the specific chart?"
      ],
      "metadata": {
        "id": "QHF8YVU7Yuh3"
      }
    },
    {
      "cell_type": "markdown",
      "source": [
        "\n",
        "- A **Box Plot** is the best way to show how response times vary across different issue categories.  \n",
        "- It highlights **the median response time, variations, and outliers**, helping to identify **which issues take the longest to resolve**."
      ],
      "metadata": {
        "id": "dcxuIMRPYuh3"
      }
    },
    {
      "cell_type": "markdown",
      "source": [
        "##### 2. What is/are the insight(s) found from the chart?"
      ],
      "metadata": {
        "id": "GwzvFGzlYuh3"
      }
    },
    {
      "cell_type": "markdown",
      "source": [
        "- **Returns & Refunds have the longest response times**, meaning these issues take longer to resolve.  \n",
        "- **Order-related issues (like cancellations or delivery status)** have **shorter response times** compared to returns.  \n",
        "- There are **outliers** in some categories, indicating that certain cases take significantly longer than the average."
      ],
      "metadata": {
        "id": "uyqkiB8YYuh3"
      }
    },
    {
      "cell_type": "markdown",
      "source": [
        "##### 3. Will the gained insights help creating a positive business impact?\n",
        "Are there any insights that lead to negative growth? Justify with specific reason."
      ],
      "metadata": {
        "id": "qYpmQ266Yuh3"
      }
    },
    {
      "cell_type": "markdown",
      "source": [
        "**Positive Impact:**  \n",
        "- Identifying slow categories (like Returns) allows Flipkart to **optimize customer service efforts** in those areas.  \n",
        "- Faster response times in order-related issues show **efficiency in certain areas**, which can be replicated across other categories.\n",
        "\n",
        "**Negative Impact:**  \n",
        "- If **return & refund complaints remain slow**, customers may **lose trust in the platform** and switch to competitors.  \n",
        "- **Outliers indicate cases with extreme delays**, which could lead to negative reviews or escalations."
      ],
      "metadata": {
        "id": "_WtzZ_hCYuh4"
      }
    },
    {
      "cell_type": "markdown",
      "source": [
        "#### Chart - 6"
      ],
      "metadata": {
        "id": "OH-pJp9IphqM"
      }
    },
    {
      "cell_type": "code",
      "source": [
        "# Chart - 6: Response Time vs CSAT Score\n",
        "\n",
        "plt.figure(figsize=(12, 6))\n",
        "\n",
        "# Scatter plot for response time vs CSAT score\n",
        "sns.scatterplot(data=df, x=\"Response_Time\", y=\"CSAT Score\", alpha=0.5, color=\"blue\")\n",
        "\n",
        "# Titles and labels\n",
        "plt.title(\"Response Time vs CSAT Score\", fontsize=16, fontweight=\"bold\")\n",
        "plt.xlabel(\"Response Time (Hours)\", fontsize=14)\n",
        "plt.ylabel(\"CSAT Score\", fontsize=14)\n",
        "\n",
        "# Show plot\n",
        "plt.show()\n"
      ],
      "metadata": {
        "id": "kuRf4wtuphqN"
      },
      "execution_count": null,
      "outputs": []
    },
    {
      "cell_type": "markdown",
      "source": [
        "##### 1. Why did you pick the specific chart?"
      ],
      "metadata": {
        "id": "bbFf2-_FphqN"
      }
    },
    {
      "cell_type": "markdown",
      "source": [
        "- A **Scatter Plot** helps visualize the **correlation between response time and CSAT scores.**  \n",
        "- It shows if **faster responses** lead to **higher satisfaction** or if other factors impact CSAT scores."
      ],
      "metadata": {
        "id": "loh7H2nzphqN"
      }
    },
    {
      "cell_type": "markdown",
      "source": [
        "##### 2. What is/are the insight(s) found from the chart?"
      ],
      "metadata": {
        "id": "_ouA3fa0phqN"
      }
    },
    {
      "cell_type": "markdown",
      "source": [
        "\n",
        "- **Faster response times generally lead to higher CSAT scores (4-5).**  \n",
        "- **Longer response times (above a threshold) are associated with lower CSAT scores (1-3).**  \n",
        "- Some **outliers** show that even with a quick response, a few customers still gave low scores—indicating that **resolution quality** also matters."
      ],
      "metadata": {
        "id": "VECbqPI7phqN"
      }
    },
    {
      "cell_type": "markdown",
      "source": [
        "##### 3. Will the gained insights help creating a positive business impact?\n",
        "Are there any insights that lead to negative growth? Justify with specific reason."
      ],
      "metadata": {
        "id": "Seke61FWphqN"
      }
    },
    {
      "cell_type": "markdown",
      "source": [
        "**Positive Impact:**  \n",
        "- By reducing **response time**, Flipkart can **increase customer satisfaction (CSAT scores).**  \n",
        "- **Training agents to respond faster** to high-impact complaints (like returns & refunds) can improve ratings.  \n",
        "\n",
        "**Negative Impact:**  \n",
        "- **Fast responses alone won’t guarantee higher CSAT scores** if the resolution quality is poor.  \n",
        "- If Flipkart **prioritizes speed over issue resolution accuracy**, CSAT scores may still decline."
      ],
      "metadata": {
        "id": "DW4_bGpfphqN"
      }
    },
    {
      "cell_type": "markdown",
      "source": [
        "#### Chart - 7"
      ],
      "metadata": {
        "id": "PIIx-8_IphqN"
      }
    },
    {
      "cell_type": "code",
      "source": [
        "# Chart - 7: Trend of Issues Reported Over Time\n",
        "\n",
        "# Ensure correct date format\n",
        "df[\"order_date_time\"] = pd.to_datetime(df[\"order_date_time\"], dayfirst=True, errors='coerce')\n",
        "\n",
        "# Group by Date & Count Issues\n",
        "df_grouped = df.groupby(df[\"order_date_time\"].dt.date).size().reset_index(name=\"issue_count\")\n",
        "\n",
        "# Apply Rolling Average (7-day window)\n",
        "df_grouped[\"issue_count\"] = df_grouped[\"issue_count\"].rolling(window=7, min_periods=1).mean()\n",
        "\n",
        "# Plot Improved Line Chart\n",
        "plt.figure(figsize=(12, 5))\n",
        "plt.plot(df_grouped[\"order_date_time\"], df_grouped[\"issue_count\"], color='blue', marker='o', linestyle='-')\n",
        "plt.title(\"Trend of Issues Reported Over Time\")\n",
        "plt.xlabel(\"Date\")\n",
        "plt.ylabel(\"Number of Issues Reported\")\n",
        "plt.xticks(rotation=45)\n",
        "plt.grid(True)\n",
        "plt.show()\n"
      ],
      "metadata": {
        "id": "lqAIGUfyphqO"
      },
      "execution_count": null,
      "outputs": []
    },
    {
      "cell_type": "markdown",
      "source": [
        "##### 1. Why did you pick the specific chart?"
      ],
      "metadata": {
        "id": "t27r6nlMphqO"
      }
    },
    {
      "cell_type": "markdown",
      "source": [
        "\n",
        "- A **line/scatter plot over time** is ideal for detecting **patterns in complaints**.  \n",
        "- Helps **identify surges, seasonal variations, or operational failures** that impact customer experience.  \n",
        "- Allows Flipkart to **prepare & improve support** for peak complaint periods."
      ],
      "metadata": {
        "id": "iv6ro40sphqO"
      }
    },
    {
      "cell_type": "markdown",
      "source": [
        "##### 2. What is/are the insight(s) found from the chart?"
      ],
      "metadata": {
        "id": "r2jJGEOYphqO"
      }
    },
    {
      "cell_type": "markdown",
      "source": [
        "\n",
        "- The chart shows a **massive spike in customer complaints** around **mid-2023**.  \n",
        "- Before this, the number of issues remained **low and stable**.  \n",
        "- The sharp **increase & quick decline** suggests:\n",
        "  - **Seasonal Event (Big Billion Days, Festive Sales, or Mega Discounts).**  \n",
        "  - **Operational or Technical Breakdown** (Website issues, payment failures, or delivery delays).  \n",
        "  - **Logistics Overload** (Due to an unexpected surge in orders).\n"
      ],
      "metadata": {
        "id": "Po6ZPi4hphqO"
      }
    },
    {
      "cell_type": "markdown",
      "source": [
        "##### 3. Will the gained insights help creating a positive business impact?\n",
        "Are there any insights that lead to negative growth? Justify with specific reason."
      ],
      "metadata": {
        "id": "b0JNsNcRphqO"
      }
    },
    {
      "cell_type": "markdown",
      "source": [
        "**Positive Business Impact:**  \n",
        "- Flipkart can **predict future spikes** and **increase staff/resources** for better handling.  \n",
        "- **Improving logistics & automation** (AI bots, self-service options) can reduce issue volumes.  \n",
        "- **Better forecasting models** can ensure **faster issue resolution & better customer experience**.  \n",
        "\n",
        "**Negative Business Impact:**  \n",
        "- If these complaint spikes remain **unaddressed**, it could cause **customer churn, negative reviews & reduced trust**.  \n",
        "- If logistics and **customer service aren’t prepared**, high order volumes can **lead to mass order failures or delays**."
      ],
      "metadata": {
        "id": "xvSq8iUTphqO"
      }
    },
    {
      "cell_type": "markdown",
      "source": [
        "#### Chart - 8"
      ],
      "metadata": {
        "id": "BZR9WyysphqO"
      }
    },
    {
      "cell_type": "code",
      "source": [
        "# Chart 8: Comparison of Morning vs Evening Shift Performance\n",
        "\n",
        "# Convert 'CSAT Score' to numeric (if necessary)\n",
        "df['CSAT Score'] = pd.to_numeric(df['CSAT Score'], errors='coerce')\n",
        "\n",
        "# Group by 'Agent Shift' and calculate the average CSAT Score\n",
        "shift_performance = df.groupby('Agent Shift')['CSAT Score'].mean().reset_index()\n",
        "\n",
        "# Plot the bar chart\n",
        "plt.figure(figsize=(8,5))\n",
        "plt.bar(shift_performance['Agent Shift'], shift_performance['CSAT Score'], color=['blue', 'orange'])\n",
        "\n",
        "# Chart labels and title\n",
        "plt.xlabel(\"Agent Shift\")\n",
        "plt.ylabel(\"Average CSAT Score\")\n",
        "plt.title(\"Comparison of Morning vs Evening Shift Performance\")\n",
        "plt.ylim(0, 5)  # CSAT score is usually between 1-5\n",
        "plt.grid(axis='y', linestyle='--', alpha=0.7)\n",
        "\n",
        "# Display values on bars\n",
        "for index, value in enumerate(shift_performance['CSAT Score']):\n",
        "    plt.text(index, value + 0.1, round(value, 2), ha='center', fontsize=12)\n",
        "\n",
        "# Show the plot\n",
        "plt.show()"
      ],
      "metadata": {
        "id": "TdPTWpAVphqO"
      },
      "execution_count": null,
      "outputs": []
    },
    {
      "cell_type": "markdown",
      "source": [
        "##### 1. Why did you pick the specific chart?"
      ],
      "metadata": {
        "id": "jj7wYXLtphqO"
      }
    },
    {
      "cell_type": "markdown",
      "source": [
        "\n",
        "- A **bar chart** is the best way to compare **average CSAT (Customer Satisfaction) scores** between shifts.  \n",
        "- Helps determine if **one shift performs better** in handling customer issues.  \n",
        "- Identifies if **time of day affects support quality** (due to agent availability, workload, or fatigue)."
      ],
      "metadata": {
        "id": "Ob8u6rCTphqO"
      }
    },
    {
      "cell_type": "markdown",
      "source": [
        "##### 2. What is/are the insight(s) found from the chart?"
      ],
      "metadata": {
        "id": "eZrbJ2SmphqO"
      }
    },
    {
      "cell_type": "markdown",
      "source": [
        "- If** Morning Shift CSAT > Evening Shift CSAT** → Evening shift might need workload adjustment or better agent support.\n",
        "- If **Evening Shift CSAT > Morning Shift CSAT** → Maybe morning agents need training on handling peak complaints.\n",
        "- If **Both shifts are similar, then customer support is consistent throughout the day.**\n"
      ],
      "metadata": {
        "id": "mZtgC_hjphqO"
      }
    },
    {
      "cell_type": "markdown",
      "source": [
        "##### 3. Will the gained insights help creating a positive business impact?\n",
        "Are there any insights that lead to negative growth? Justify with specific reason."
      ],
      "metadata": {
        "id": "rFu4xreNphqO"
      }
    },
    {
      "cell_type": "markdown",
      "source": [
        "**Positive Business Impact:**  \n",
        "- **Balancing agent workload** to ensure consistent service quality.  \n",
        "- **Scheduling experienced agents** for the busier or lower-rated shifts.  \n",
        "- **Providing better training or AI support** to the shift with lower CSAT scores.  \n",
        "\n",
        "**Negative Business Impact:**  \n",
        "- **If ignored**, lower CSAT scores in one shift can lead to **customer dissatisfaction & bad reviews**.  \n",
        "- Poor evening shift performance may **increase complaint resolution time**, causing **higher escalations**."
      ],
      "metadata": {
        "id": "ey_0qi68phqO"
      }
    },
    {
      "cell_type": "markdown",
      "source": [
        "#### Chart - 9"
      ],
      "metadata": {
        "id": "YJ55k-q6phqO"
      }
    },
    {
      "cell_type": "code",
      "source": [
        "# chart -9 : Agent Performance (Top 10 Agents by CSAT Score)\n",
        "\n",
        "# Convert 'CSAT Score' to numeric\n",
        "df['CSAT Score'] = pd.to_numeric(df['CSAT Score'], errors='coerce')\n",
        "\n",
        "# Group by agent name and calculate average CSAT Score\n",
        "agent_performance = df.groupby('Agent_name')['CSAT Score'].mean().reset_index()\n",
        "\n",
        "# Sort agents by CSAT score in descending order & take the top 10\n",
        "top_agents = agent_performance.sort_values(by='CSAT Score', ascending=False).head(10)\n",
        "\n",
        "# Plot horizontal bar chart\n",
        "plt.figure(figsize=(10,6))\n",
        "plt.barh(top_agents['Agent_name'], top_agents['CSAT Score'], color='green')\n",
        "\n",
        "# Add labels and title\n",
        "plt.xlabel(\"Average CSAT Score\")\n",
        "plt.ylabel(\"Agent Name\")\n",
        "plt.title(\"Top 10 Agents by CSAT Score\")\n",
        "plt.xlim(0, 5)  # CSAT is between 1-5\n",
        "plt.gca().invert_yaxis()  # Invert so highest is at top\n",
        "\n",
        "# Show values on bars\n",
        "for index, value in enumerate(top_agents['CSAT Score']):\n",
        "    plt.text(value + 0.1, index, round(value, 2), fontsize=10)\n",
        "\n",
        "# Show the plot\n",
        "plt.show()\n"
      ],
      "metadata": {
        "id": "B2aS4O1ophqO"
      },
      "execution_count": null,
      "outputs": []
    },
    {
      "cell_type": "markdown",
      "source": [
        "##### 1. Why did you pick the specific chart?"
      ],
      "metadata": {
        "id": "gCFgpxoyphqP"
      }
    },
    {
      "cell_type": "markdown",
      "source": [
        "\n",
        "- A **horizontal bar chart** is the best way to **visually compare multiple agents** side by side.  \n",
        "- It clearly **ranks** the agents from best to least (among the top 10).  \n",
        "- Helps **identify high performers** who can be role models for other agents."
      ],
      "metadata": {
        "id": "TVxDimi2phqP"
      }
    },
    {
      "cell_type": "markdown",
      "source": [
        "##### 2. What is/are the insight(s) found from the chart?"
      ],
      "metadata": {
        "id": "OVtJsKN_phqQ"
      }
    },
    {
      "cell_type": "markdown",
      "source": [
        "1. **Best agents are clearly identified**, helping management reward or learn from them.  \n",
        "2. If **CSAT scores are very close among agents**, it suggests a **uniform customer service quality**.  \n",
        "3. If there is a **huge gap between the best and the 10th agent**, the company should investigate why some agents excel while others lag.  \n",
        "4. Can help **identify mentors** who can train lower-performing agents."
      ],
      "metadata": {
        "id": "ngGi97qjphqQ"
      }
    },
    {
      "cell_type": "markdown",
      "source": [
        "##### 3. Will the gained insights help creating a positive business impact?\n",
        "Are there any insights that lead to negative growth? Justify with specific reason."
      ],
      "metadata": {
        "id": "lssrdh5qphqQ"
      }
    },
    {
      "cell_type": "markdown",
      "source": [
        "**Positive Impact:**  \n",
        "- High CSAT scoring agents can **train others**, improving overall customer service.  \n",
        "- Recognizing top agents **boosts employee motivation** and **retention**.  \n",
        "- Helps in **assigning important cases to best agents**.\n",
        "\n",
        "**Negative Impact:**  \n",
        "- If the **top agents are overloaded** due to their good performance, they may **burn out**.  \n",
        "- **Underperforming agents might feel demotivated** if the gaps are too large."
      ],
      "metadata": {
        "id": "tBpY5ekJphqQ"
      }
    },
    {
      "cell_type": "markdown",
      "source": [
        "#### Chart - 10"
      ],
      "metadata": {
        "id": "U2RJ9gkRphqQ"
      }
    },
    {
      "cell_type": "code",
      "source": [
        "# Chart 10: Agent Response Time Analysis\n",
        "\n",
        "# Convert time-related columns to datetime\n",
        "df['issue_responded'] = pd.to_datetime(df['issue_responded'], errors='coerce')\n",
        "df['Issue_reported at'] = pd.to_datetime(df['Issue_reported at'], errors='coerce')\n",
        "\n",
        "# Calculate response time in minutes\n",
        "df['Response_Time'] = (df['issue_responded'] - df['Issue_reported at']).dt.total_seconds() / 60\n",
        "\n",
        "# Drop NaN values\n",
        "df = df.dropna(subset=['Response_Time', 'Agent_name'])\n",
        "\n",
        "# Filter top agents with most cases (optional for better visualization)\n",
        "top_agents = df['Agent_name'].value_counts().index[:10]\n",
        "df_top_agents = df[df['Agent_name'].isin(top_agents)]\n",
        "\n",
        "# Create a box plot\n",
        "plt.figure(figsize=(12, 6))\n",
        "sns.boxplot(x='Agent_name', y='Response_Time', data=df_top_agents, palette=\"coolwarm\")\n",
        "\n",
        "# Rotate x-axis labels for readability\n",
        "plt.xticks(rotation=45)\n",
        "\n",
        "# Add labels and title\n",
        "plt.xlabel(\"Agent Name\")\n",
        "plt.ylabel(\"Response Time (Minutes)\")\n",
        "plt.title(\"Agent Response Time Analysis (Top Agents)\")\n",
        "\n",
        "# Show the plot\n",
        "plt.show()\n"
      ],
      "metadata": {
        "id": "GM7a4YP4phqQ"
      },
      "execution_count": null,
      "outputs": []
    },
    {
      "cell_type": "markdown",
      "source": [
        "##### 1. Why did you pick the specific chart?"
      ],
      "metadata": {
        "id": "1M8mcRywphqQ"
      }
    },
    {
      "cell_type": "markdown",
      "source": [
        "\n",
        "- A **box plot** is ideal for showing **distribution, median, quartiles, and outliers** in response times.  \n",
        "- It helps **compare multiple agents at once** to identify **consistent vs. slow responders**.  \n",
        "- Outliers can indicate **occasional extreme delays**, helping **detect inefficiencies**."
      ],
      "metadata": {
        "id": "8agQvks0phqQ"
      }
    },
    {
      "cell_type": "markdown",
      "source": [
        "##### 2. What is/are the insight(s) found from the chart?"
      ],
      "metadata": {
        "id": "tgIPom80phqQ"
      }
    },
    {
      "cell_type": "markdown",
      "source": [
        "1. **Agents with smaller interquartile ranges (IQRs)** are **consistent** in their response time.  \n",
        "2. **Agents with high median response time** need **process improvements or training**.  \n",
        "3. **Outliers (dots outside whiskers)** indicate cases where response time was unusually high.  \n",
        "4. Helps identify **which agents are slow**, leading to **longer resolution times and possible customer dissatisfaction**."
      ],
      "metadata": {
        "id": "Qp13pnNzphqQ"
      }
    },
    {
      "cell_type": "markdown",
      "source": [
        "##### 3. Will the gained insights help creating a positive business impact?\n",
        "Are there any insights that lead to negative growth? Justify with specific reason."
      ],
      "metadata": {
        "id": "JMzcOPDDphqR"
      }
    },
    {
      "cell_type": "markdown",
      "source": [
        "**Positive Impact:**  \n",
        "- Identifies **high-performing agents** who can be **rewarded or used as benchmarks**.  \n",
        "- Helps find **bottlenecks** in agent response time and **improve customer service efficiency**.  \n",
        "- Management can **assign urgent cases** to faster agents for **better customer experience**.\n",
        "\n",
        "**Negative Impact:**  \n",
        "- Slow agents **may feel pressured**, which could **increase stress levels**.  \n",
        "- **Unfair workload distribution** if fast agents get more cases.  \n",
        "- **Outliers may distort analysis** if caused by system issues rather than agent performance."
      ],
      "metadata": {
        "id": "R4Ka1PC2phqR"
      }
    },
    {
      "cell_type": "markdown",
      "source": [
        "#### Chart - 11"
      ],
      "metadata": {
        "id": "x-EpHcCOp1ci"
      }
    },
    {
      "cell_type": "code",
      "source": [
        "# Chart 11 - Price Impact on Customer Issues\n",
        "\n",
        "# Convert price into categories (Low, Mid, High)\n",
        "def price_category(price):\n",
        "    if price < 1000:\n",
        "        return \"Low\"\n",
        "    elif 1000 <= price < 5000:\n",
        "        return \"Mid\"\n",
        "    else:\n",
        "        return \"High\"\n",
        "\n",
        "# Ensure price column is numeric\n",
        "df['Item_price'] = pd.to_numeric(df['Item_price'], errors='coerce')\n",
        "\n",
        "# Apply price category function\n",
        "df['Price_Category'] = df['Item_price'].apply(price_category)\n",
        "\n",
        "# Count number of complaints per price category\n",
        "price_complaints = df['Price_Category'].value_counts()\n",
        "\n",
        "# Plot bar chart\n",
        "plt.figure(figsize=(8, 5))\n",
        "sns.barplot(x=price_complaints.index, y=price_complaints.values, palette=\"coolwarm\")\n",
        "\n",
        "# Add labels and title\n",
        "plt.xlabel(\"Price Category\")\n",
        "plt.ylabel(\"Number of Complaints\")\n",
        "plt.title(\"Price Impact on Customer Issues\")\n",
        "\n",
        "# Show the plot\n",
        "plt.show()"
      ],
      "metadata": {
        "id": "mAQTIvtqp1cj"
      },
      "execution_count": null,
      "outputs": []
    },
    {
      "cell_type": "markdown",
      "source": [
        "##### 1. Why did you pick the specific chart?"
      ],
      "metadata": {
        "id": "X_VqEhTip1ck"
      }
    },
    {
      "cell_type": "markdown",
      "source": [
        "\n",
        "- A **bar chart** is perfect for comparing **complaint volume** across **different price categories**.  \n",
        "- It helps detect patterns like **premium products receiving more complaints** or **low-priced items having quality concerns**.  \n",
        "- This insight is useful for **pricing strategy, product quality control, and customer satisfaction improvements**."
      ],
      "metadata": {
        "id": "-vsMzt_np1ck"
      }
    },
    {
      "cell_type": "markdown",
      "source": [
        "##### 2. What is/are the insight(s) found from the chart?"
      ],
      "metadata": {
        "id": "8zGJKyg5p1ck"
      }
    },
    {
      "cell_type": "markdown",
      "source": [
        "\n",
        "1. **If high-priced products have more complaints**, it may indicate **customers expect higher quality and are more vocal**.  \n",
        "2. **If low-priced products have more complaints**, it may suggest **quality issues due to cost-cutting measures**.  \n",
        "3. **A balanced complaint ratio** across categories shows **issues are unrelated to price but maybe due to service or logistics**.  \n",
        "4. If complaints are **skewed towards mid-range products**, it could indicate **a gap in perceived vs. actual value**."
      ],
      "metadata": {
        "id": "ZYdMsrqVp1ck"
      }
    },
    {
      "cell_type": "markdown",
      "source": [
        "##### 3. Will the gained insights help creating a positive business impact?\n",
        "Are there any insights that lead to negative growth? Justify with specific reason."
      ],
      "metadata": {
        "id": "PVzmfK_Ep1ck"
      }
    },
    {
      "cell_type": "markdown",
      "source": [
        "**Positive Impact:**  \n",
        "- Helps **identify product pricing issues** that impact **customer satisfaction**.  \n",
        "- Allows **quality control teams** to focus on problematic price segments.  \n",
        "- **Improves marketing strategies** by ensuring the right product-price balance.\n",
        "\n",
        "**Potential Negative Impact:**  \n",
        "- If premium products have high complaints, it may **reduce brand trust**.  \n",
        "- If cheap products get too many issues, it could mean **return rates and refunds increase**.  \n",
        "- Could lead to **misinterpretation** if price is not the only reason for complaints."
      ],
      "metadata": {
        "id": "druuKYZpp1ck"
      }
    },
    {
      "cell_type": "markdown",
      "source": [
        "#### Chart - 12"
      ],
      "metadata": {
        "id": "n3dbpmDWp1ck"
      }
    },
    {
      "cell_type": "code",
      "source": [
        "# Chart 12 - Most Frequent Supervisors in Customer Interactions\n",
        "\n",
        "# Count the number of complaints handled by each supervisor\n",
        "supervisor_complaints = df['Supervisor'].value_counts().head(10)  # Top 10 supervisors\n",
        "\n",
        "# Plot bar chart\n",
        "plt.figure(figsize=(10, 6))\n",
        "sns.barplot(x=supervisor_complaints.values, y=supervisor_complaints.index, palette=\"viridis\")\n",
        "\n",
        "# Add labels and title\n",
        "plt.xlabel(\"Number of Complaints Handled\")\n",
        "plt.ylabel(\"Supervisor Name\")\n",
        "plt.title(\"Most Frequent Supervisors in Customer Interactions\")\n",
        "\n",
        "# Show the plot\n",
        "plt.show()"
      ],
      "metadata": {
        "id": "bwevp1tKp1ck"
      },
      "execution_count": null,
      "outputs": []
    },
    {
      "cell_type": "markdown",
      "source": [
        "##### 1. Why did you pick the specific chart?"
      ],
      "metadata": {
        "id": "ylSl6qgtp1ck"
      }
    },
    {
      "cell_type": "markdown",
      "source": [
        "\n",
        "- A **bar chart** is ideal for visualizing **the number of complaints handled per supervisor**.  \n",
        "- Helps determine **if certain supervisors are overloaded** or if **complaints are evenly distributed**.  \n",
        "- Useful for **resource management, performance evaluation, and workload balancing**."
      ],
      "metadata": {
        "id": "m2xqNkiQp1ck"
      }
    },
    {
      "cell_type": "markdown",
      "source": [
        "##### 2. What is/are the insight(s) found from the chart?"
      ],
      "metadata": {
        "id": "ZWILFDl5p1ck"
      }
    },
    {
      "cell_type": "markdown",
      "source": [
        "1. **If a few supervisors handle most complaints**, it indicates **uneven workload distribution**, which may cause **burnout**.  \n",
        "2. **If all supervisors handle a balanced number of issues**, it suggests **efficient team workload management**.  \n",
        "3. **If some supervisors handle very few complaints**, it might indicate **inefficiency or lack of engagement**.  \n",
        "4. **Identifies high-performing supervisors**, who might need **promotion, rewards, or leadership roles**."
      ],
      "metadata": {
        "id": "x-lUsV2mp1ck"
      }
    },
    {
      "cell_type": "markdown",
      "source": [
        "##### 3. Will the gained insights help creating a positive business impact?\n",
        "Are there any insights that lead to negative growth? Justify with specific reason."
      ],
      "metadata": {
        "id": "M7G43BXep1ck"
      }
    },
    {
      "cell_type": "markdown",
      "source": [
        "**Positive Impact:**  \n",
        "- Helps **optimize supervisor workload** to prevent burnout.  \n",
        "- Improves **resource allocation** by balancing complaints efficiently.  \n",
        "- Recognizes **top-performing supervisors** for rewards and promotions.\n",
        "\n",
        "**Negative Impact:**  \n",
        "- Overloaded supervisors may experience **higher stress and reduced efficiency**.  \n",
        "- Some supervisors handling too few complaints may signal **inefficiency or low engagement**.  \n",
        "- Could **expose management gaps**, leading to **team dissatisfaction** if not addressed."
      ],
      "metadata": {
        "id": "5wwDJXsLp1cl"
      }
    },
    {
      "cell_type": "markdown",
      "source": [
        "#### Chart - 13"
      ],
      "metadata": {
        "id": "Ag9LCva-p1cl"
      }
    },
    {
      "cell_type": "code",
      "source": [
        "# Chart - 13 Distribution of Order-Related Issues\n",
        "\n",
        "# Filter only order-related complaints\n",
        "order_issues = df[df['category'].str.contains('Order', case=False, na=False)]['Sub-category'].value_counts()\n",
        "\n",
        "# Plot donut chart\n",
        "plt.figure(figsize=(8, 8))\n",
        "plt.pie(order_issues, labels=order_issues.index, autopct='%1.1f%%', colors=['#ff9999','#66b3ff','#99ff99','#ffcc99'],\n",
        "        startangle=140, wedgeprops={'edgecolor': 'black'})\n",
        "\n",
        "# Create the donut effect\n",
        "centre_circle = plt.Circle((0,0),0.70,fc='white')\n",
        "plt.gca().add_artist(centre_circle)\n",
        "\n",
        "# Add title\n",
        "plt.title(\"Distribution of Order-Related Issues\")\n",
        "\n",
        "# Show plot\n",
        "plt.show()"
      ],
      "metadata": {
        "id": "EUfxeq9-p1cl"
      },
      "execution_count": null,
      "outputs": []
    },
    {
      "cell_type": "markdown",
      "source": [
        "##### 1. Why did you pick the specific chart?"
      ],
      "metadata": {
        "id": "E6MkPsBcp1cl"
      }
    },
    {
      "cell_type": "markdown",
      "source": [
        "- A **donut chart** is useful for showing **the proportion of different order-related issues**.  \n",
        "- Helps identify **which complaint type needs the most attention**.  \n",
        "- Allows **customer service teams to focus on fixing the most frequent issues**."
      ],
      "metadata": {
        "id": "V22bRsFWp1cl"
      }
    },
    {
      "cell_type": "markdown",
      "source": [
        "##### 2. What is/are the insight(s) found from the chart?"
      ],
      "metadata": {
        "id": "2cELzS2fp1cl"
      }
    },
    {
      "cell_type": "markdown",
      "source": [
        "1. **Identifies the most common order-related complaints**, such as **Late Delivery, Refund Issues, or Cancellations**.  \n",
        "2. **If Late Delivery dominates**, logistics needs **optimization**.  \n",
        "3. **If Refund Issues are high**, it may indicate **payment processing problems**.  \n",
        "4. **If Cancellations are frequent**, there could be **inventory or pricing issues**"
      ],
      "metadata": {
        "id": "ozQPc2_Ip1cl"
      }
    },
    {
      "cell_type": "markdown",
      "source": [
        "##### 3. Will the gained insights help creating a positive business impact?\n",
        "Are there any insights that lead to negative growth? Justify with specific reason."
      ],
      "metadata": {
        "id": "3MPXvC8up1cl"
      }
    },
    {
      "cell_type": "markdown",
      "source": [
        "\n",
        "**Positive Impact:**  \n",
        "- Helps **prioritize fixing the most reported order problems**.  \n",
        "- Improves **customer satisfaction** by addressing frequent issues.  \n",
        "- Enhances **logistics, refund, or order handling processes**.\n",
        "\n",
        "**Potential Negative Impact:**  \n",
        "- If **refund issues remain high**, customers may **lose trust in the platform**.  \n",
        "- **Frequent cancellations** could indicate **pricing or product dissatisfaction**.  \n",
        "- **Delivery issues** could lead to **customer churn** if not addressed."
      ],
      "metadata": {
        "id": "GL8l1tdLp1cl"
      }
    },
    {
      "cell_type": "markdown",
      "source": [
        "#### Chart - 14 - Correlation Heatmap"
      ],
      "metadata": {
        "id": "NC_X3p0fY2L0"
      }
    },
    {
      "cell_type": "code",
      "source": [
        "# Chart 14: Customer Issue Trends by Weekday (Correlation Heatmap)\n",
        "import seaborn as sns\n",
        "\n",
        "# Convert 'order_date_time' to datetime format and remove NaN values\n",
        "df['order_date_time'] = pd.to_datetime(df['order_date_time'], errors='coerce')\n",
        "df = df.dropna(subset=['order_date_time'])  # Ensure no missing dates\n",
        "\n",
        "# Extract weekdays from order dates\n",
        "df['Weekday'] = df['order_date_time'].dt.day_name()\n",
        "\n",
        "# Count number of complaints per weekday\n",
        "weekday_counts = df['Weekday'].value_counts()\n",
        "\n",
        "# Ensure all weekdays are included (even if no data)\n",
        "weekdays = ['Monday', 'Tuesday', 'Wednesday', 'Thursday', 'Friday', 'Saturday', 'Sunday']\n",
        "weekday_counts = weekday_counts.reindex(weekdays, fill_value=0)  # Fill missing days with 0\n",
        "\n",
        "# Convert to DataFrame for heatmap\n",
        "weekday_df = pd.DataFrame(weekday_counts).T  # Transpose for heatmap format\n",
        "\n",
        "# Ensure there is data to plot\n",
        "if weekday_df.empty or weekday_df.isnull().all().all():\n",
        "    print(\"No valid data available to generate the heatmap.\")\n",
        "else:\n",
        "    # Plot heatmap\n",
        "    plt.figure(figsize=(10, 6))\n",
        "    sns.heatmap(weekday_df, cmap=\"coolwarm\", annot=True, fmt=\"d\", linewidths=0.5)\n",
        "\n",
        "    # Add title and labels\n",
        "    plt.title(\"Customer Issue Trends by Weekday (Correlation Heatmap)\")\n",
        "    plt.xlabel(\"Weekday\")\n",
        "    plt.ylabel(\"Issue Count\")\n",
        "\n",
        "    # Show plot\n",
        "    plt.show()\n"
      ],
      "metadata": {
        "id": "xyC9zolEZNRQ"
      },
      "execution_count": null,
      "outputs": []
    },
    {
      "cell_type": "markdown",
      "source": [
        "##### 1. Why did you pick the specific chart?"
      ],
      "metadata": {
        "id": "UV0SzAkaZNRQ"
      }
    },
    {
      "cell_type": "markdown",
      "source": [
        "- A **heatmap** is excellent for identifying patterns between weekdays and **the number of reported issues**.  \n",
        "- Helps understand **which days experience the most complaints**, aiding in **staffing and resource allocation**.  \n",
        "- **Identifies peak issue days** so customer support teams can **prepare accordingly**. type (e.g., late delivery, refund delays) per weekday? Let me know!** 🚀"
      ],
      "metadata": {
        "id": "DVPuT8LYZNRQ"
      }
    },
    {
      "cell_type": "markdown",
      "source": [
        "##### 2. What is/are the insight(s) found from the chart?"
      ],
      "metadata": {
        "id": "YPEH6qLeZNRQ"
      }
    },
    {
      "cell_type": "markdown",
      "source": [
        "\n",
        "1. **Identifies peak complaint days** – For example, if **Monday has the highest complaints**, it may indicate **weekend order issues**.  \n",
        "2. **Highlights the lowest complaint days**, which could be used for **maintenance or system updates**.  \n",
        "3. **If complaints spike on weekends**, customer service **may need extra staffing** during these periods.  \n",
        "4. **Understanding weekday patterns** helps optimize **shift planning** and **response efficiency**."
      ],
      "metadata": {
        "id": "bfSqtnDqZNRR"
      }
    },
    {
      "cell_type": "markdown",
      "source": [
        "#### Chart - 15 - Pair Plot"
      ],
      "metadata": {
        "id": "q29F0dvdveiT"
      }
    },
    {
      "cell_type": "code",
      "source": [
        "# Pair Plot visualization code\n",
        "\n",
        "# Convert time-related columns to datetime\n",
        "df['Issue_reported at'] = pd.to_datetime(df['Issue_reported at'], errors='coerce')\n",
        "df['issue_responded'] = pd.to_datetime(df['issue_responded'], errors='coerce')\n",
        "\n",
        "# Calculate response time in minutes\n",
        "df['Response_Time'] = (df['issue_responded'] - df['Issue_reported at']).dt.total_seconds() / 60\n",
        "\n",
        "# Convert CSAT Score and Item Price to numeric\n",
        "df['CSAT Score'] = pd.to_numeric(df['CSAT Score'], errors='coerce')\n",
        "df['Item_price'] = pd.to_numeric(df['Item_price'], errors='coerce')\n",
        "\n",
        "# Select only relevant numerical columns for pair plot\n",
        "pairplot_data = df[['CSAT Score', 'Response_Time', 'Item_price']].dropna()\n",
        "\n",
        "# Generate pair plot\n",
        "sns.pairplot(pairplot_data, diag_kind=\"kde\", plot_kws={'alpha':0.5, 's':50})\n",
        "\n",
        "# Show plot\n",
        "plt.show()\n"
      ],
      "metadata": {
        "id": "o58-TEIhveiU"
      },
      "execution_count": null,
      "outputs": []
    },
    {
      "cell_type": "markdown",
      "source": [
        "##### 1. Why did you pick the specific chart?"
      ],
      "metadata": {
        "id": "EXh0U9oCveiU"
      }
    },
    {
      "cell_type": "markdown",
      "source": [
        "\n",
        "- A **pair plot** provides a **quick overview** of relationships between multiple numeric columns.  \n",
        "- It **helps detect patterns, clusters, and trends** in the dataset.  \n",
        "- Useful for understanding if **customer satisfaction (CSAT Score) is affected by price, response time, etc.**"
      ],
      "metadata": {
        "id": "eMmPjTByveiU"
      }
    },
    {
      "cell_type": "markdown",
      "source": [
        "##### 2. What is/are the insight(s) found from the chart?"
      ],
      "metadata": {
        "id": "22aHeOlLveiV"
      }
    },
    {
      "cell_type": "markdown",
      "source": [
        "1. **CSAT Score vs. Response Time:**  \n",
        "   - If **faster response times** result in **higher CSAT scores**, Flipkart should **optimize response efficiency**.  \n",
        "   - If no correlation is found, other factors (like issue resolution quality) might matter more.  \n",
        "\n",
        "2. **Item Price vs. CSAT Score:**  \n",
        "   - If **higher-priced products** have **lower CSAT scores**, it might indicate **quality issues in premium segments**.  \n",
        "   - If cheaper items receive more complaints, it suggests **cost-cutting may affect customer satisfaction**.  \n",
        "\n",
        "3. **Response Time vs. Item Price:**  \n",
        "   - If **expensive products take longer to resolve**, Flipkart may need to **prioritize high-value orders faster**."
      ],
      "metadata": {
        "id": "uPQ8RGwHveiV"
      }
    },
    {
      "cell_type": "markdown",
      "source": [
        "## **5. Solution to Business Objective**"
      ],
      "metadata": {
        "id": "JcMwzZxoAimU"
      }
    },
    {
      "cell_type": "markdown",
      "source": [
        "#### What do you suggest the client to achieve Business Objective ?\n",
        "Explain Briefly."
      ],
      "metadata": {
        "id": "8G2x9gOozGDZ"
      }
    },
    {
      "cell_type": "markdown",
      "source": [
        " To help Flipkart **enhance customer satisfaction, optimize service operations, and improve logistics**, we recommend:  \n",
        "\n",
        "**1️⃣ Reduce Response Time & Optimize Customer Support**  \n",
        "- **Implement AI chatbots** to handle **basic queries** and **reduce agent workload**.  \n",
        "- **Optimize shift scheduling** to ensure **fast responses** during peak complaint times.  \n",
        "- **Introduce agent incentives** to encourage **faster and high-quality issue resolution**.  \n",
        "\n",
        "**2️⃣ Improve Product Quality & Reduce Returns**  \n",
        "- **Strengthen quality checks** for **high-value products** to minimize complaints.  \n",
        "- **Provide detailed and accurate product descriptions** to reduce order mismatches.  \n",
        "- **Automate return & refund processes** to speed up issue resolution.  \n",
        "\n",
        "**3️⃣ Optimize Logistics & Reduce Order Delays**  \n",
        "- **Expand warehouse locations** to **speed up deliveries** and **minimize late deliveries**.  \n",
        "- **AI-based demand forecasting** to predict high-order periods and **manage stock efficiently**.  \n",
        "- **Provide real-time order tracking** to improve customer experience.  \n",
        "\n",
        "**4️⃣ Enhance CSAT Scores & Customer Retention**  \n",
        "- **Priority support for premium customers** to improve loyalty.  \n",
        "- **Develop self-service portals** to allow customers to resolve basic issues independently.  \n",
        "- **Monitor and analyze peak complaint days** to ensure **sufficient support staff availability**.  \n",
        "\n",
        "**5️⃣ Strengthen Supervisor & Agent Monitoring**  \n",
        "- **Balance agent workload** to ensure equal distribution of customer complaints.  \n",
        "- **Use AI-based routing** to send **complex cases to top-performing agents**.  \n",
        "- **Conduct continuous training programs** for agents to improve performance.  "
      ],
      "metadata": {
        "id": "pASKb0qOza21"
      }
    },
    {
      "cell_type": "markdown",
      "source": [
        "# **Conclusion**"
      ],
      "metadata": {
        "id": "gCX9965dhzqZ"
      }
    },
    {
      "cell_type": "markdown",
      "source": [
        "**📌 Conclusion**  \n",
        "\n",
        "Through this analysis, we identified key areas where Flipkart can **optimize customer service, improve logistics, and enhance product quality**.  \n",
        "\n",
        "✅ By **reducing response time** and **automating support**, Flipkart can increase **CSAT scores** and improve **customer satisfaction**.  \n",
        "✅ **Optimizing order delivery & return processes** will reduce **refund complaints** and improve **trust**.  \n",
        "✅ **Better agent performance tracking** and **supervisor monitoring** will enhance **overall service efficiency**.  "
      ],
      "metadata": {
        "id": "Fjb1IsQkh3yE"
      }
    }
  ]
}